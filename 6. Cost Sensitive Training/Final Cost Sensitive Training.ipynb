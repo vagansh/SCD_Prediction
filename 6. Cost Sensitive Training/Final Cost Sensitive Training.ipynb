{
 "cells": [
  {
   "cell_type": "code",
   "execution_count": 11,
   "id": "07450aae",
   "metadata": {},
   "outputs": [],
   "source": [
    "import io\n",
    "import matplotlib.pyplot as plt\n",
    "import pandas as pd\n",
    "import numpy as np\n",
    "import scipy.stats\n",
    "import scipy.special\n",
    "import seaborn as sns\n",
    "sns.set_style('white')\n",
    "sns.set_context('notebook')\n",
    "from sklearn.model_selection import train_test_split\n",
    "import os\n",
    "\n",
    "from sklearn.linear_model import LogisticRegression\n",
    "from sklearn.metrics import confusion_matrix, classification_report\n",
    "from sklearn.metrics import balanced_accuracy_score\n",
    "\n",
    "from sklearn import metrics\n",
    "import matplotlib.pyplot as plt\n",
    "\n",
    "from collections import Counter\n",
    "from sklearn.datasets import make_classification\n",
    "from imblearn.under_sampling import TomekLinks\n",
    "\n",
    "\n",
    "from imblearn.over_sampling import ADASYN\n",
    "from imblearn.over_sampling import SMOTE\n",
    "\n",
    "##### from collections import Counter\n",
    "from sklearn.datasets import make_classification\n",
    "from sklearn.cluster import MiniBatchKMeans\n",
    "from imblearn.under_sampling import ClusterCentroids\n",
    "from imblearn.over_sampling import SMOTENC\n",
    "from sklearn.ensemble import RandomForestClassifier\n",
    "from sklearn.datasets import make_hastie_10_2\n",
    "from sklearn.ensemble import GradientBoostingClassifier\n",
    "from imblearn.ensemble import BalancedBaggingClassifier\n",
    "from sklearn.tree import DecisionTreeClassifier\n",
    "from imblearn.ensemble import BalancedRandomForestClassifier\n",
    "\n",
    "from imblearn.ensemble import EasyEnsembleClassifier\n",
    "\n",
    "from imblearn.over_sampling import RandomOverSampler\n",
    "from imblearn.under_sampling import RandomUnderSampler\n",
    "\n",
    "from sklearn.neural_network import MLPClassifier\n",
    "from sklearn.datasets import make_classification\n",
    "from sklearn.model_selection import train_test_split\n",
    "\n",
    "\n",
    "import scipy.stats as st\n",
    "import math\n",
    "\n",
    "\n",
    "#Import library\n",
    "import numpy as np\n",
    "import pandas as pd\n",
    "import seaborn as sns\n",
    "import matplotlib.pyplot as plt\n",
    "from sklearn.ensemble import BaggingClassifier\n",
    "import time\n",
    "from sklearn.linear_model import LogisticRegression\n",
    "from sklearn.metrics import confusion_matrix, roc_auc_score ,roc_curve,auc\n",
    "from sklearn.model_selection import GridSearchCV,StratifiedKFold\n",
    "from sklearn.preprocessing import LabelEncoder\n",
    "\n",
    "\n",
    "import numpy as np\n",
    "from sklearn.datasets import make_classification\n",
    "from sklearn.model_selection import train_test_split\n",
    "from sklearn.metrics import *\n",
    "import pandas as pd\n",
    "seed=45\n"
   ]
  },
  {
   "cell_type": "markdown",
   "id": "80c1e1ce",
   "metadata": {},
   "source": [
    "## Importing Training Set"
   ]
  },
  {
   "cell_type": "code",
   "execution_count": 12,
   "id": "6fa24fea",
   "metadata": {},
   "outputs": [],
   "source": [
    "data=pd.read_csv('/Users/ibrain/Downloads/Cognitive Neuroscience Work/Cognition and Lifestyle R Coding/Cognition_Lifestyle/Imbalanced Data/training_set.csv')\n",
    "data=data.iloc[:,1:]\n",
    "data.head()\n",
    "\n",
    "X = data.drop(columns='CIMEMLOS')\n",
    "Y = data['CIMEMLOS']"
   ]
  },
  {
   "cell_type": "markdown",
   "id": "1bb713f1",
   "metadata": {},
   "source": [
    "## Importing Validation Set"
   ]
  },
  {
   "cell_type": "code",
   "execution_count": 13,
   "id": "020299c6",
   "metadata": {},
   "outputs": [
    {
     "name": "stdout",
     "output_type": "stream",
     "text": [
      "(2401, 18)\n"
     ]
    }
   ],
   "source": [
    "eval_set=pd.read_csv('/Users/ibrain/Downloads/Cognitive Neuroscience Work/Cognition and Lifestyle R Coding/Cognition_Lifestyle/Imbalanced Data/evaluation_set.csv')\n",
    "eval_set=eval_set.iloc[:,1:]\n",
    "eval_set.head()\n",
    "print(eval_set.shape)\n",
    "\n",
    "eval_X = eval_set.drop(columns='CIMEMLOS')\n",
    "eval_Y = eval_set['CIMEMLOS']"
   ]
  },
  {
   "cell_type": "markdown",
   "id": "028ee00f",
   "metadata": {},
   "source": [
    "## Creation of Cost Matrix"
   ]
  },
  {
   "cell_type": "code",
   "execution_count": 14,
   "id": "7f1a412e",
   "metadata": {},
   "outputs": [
    {
     "name": "stdout",
     "output_type": "stream",
     "text": [
      "         0   1  2  3\n",
      "0      1.5  10  0  0\n",
      "1      1.5  10  0  0\n",
      "2      1.5  10  0  0\n",
      "3      1.5  10  0  0\n",
      "4      1.5  10  0  0\n",
      "...    ...  .. .. ..\n",
      "16804  1.5  10  0  0\n",
      "16805  1.5  10  0  0\n",
      "16806  1.5  10  0  0\n",
      "16807  1.5  10  0  0\n",
      "16808  1.5  10  0  0\n",
      "\n",
      "[16809 rows x 4 columns]\n"
     ]
    }
   ],
   "source": [
    "# Change FP, FN costs for different cost matrices.\n",
    "# FP Cost: if col == 0 , FN cost: if col == 1 \n",
    "# Suggested values FP: FN = 1.5, 9.5 and 1.5, 8.31\n",
    "\n",
    "rows, cols = (len(data), 4)\n",
    "arr = [[0]*cols]*rows\n",
    "for row in range(0,rows):\n",
    "    for col in range(cols):\n",
    "        if col==0:\n",
    "            arr[row][col]=1.5\n",
    "        if col==1:\n",
    "            arr[row][col]=10\n",
    "#print(arr)\n",
    "cost_matrix = pd.DataFrame(arr)  \n",
    "print(cost_matrix)"
   ]
  },
  {
   "cell_type": "markdown",
   "id": "a7e23218",
   "metadata": {},
   "source": [
    "## concating the cost matrix with Training Set"
   ]
  },
  {
   "cell_type": "code",
   "execution_count": 15,
   "id": "9ef2b5ae",
   "metadata": {},
   "outputs": [
    {
     "name": "stdout",
     "output_type": "stream",
     "text": [
      "16809\n"
     ]
    }
   ],
   "source": [
    "dataframe3=pd.concat([data, cost_matrix], axis=1)\n",
    "dataframe3.head()\n",
    "print(len(dataframe3))\n"
   ]
  },
  {
   "cell_type": "markdown",
   "id": "1f9790ed",
   "metadata": {},
   "source": [
    "## Segregating X, Y, Cost Matrix for training"
   ]
  },
  {
   "cell_type": "code",
   "execution_count": 16,
   "id": "0b20a9e6",
   "metadata": {},
   "outputs": [
    {
     "name": "stdout",
     "output_type": "stream",
     "text": [
      "0    0\n",
      "1    0\n",
      "2    0\n",
      "3    0\n",
      "4    0\n",
      "Name: CIMEMLOS, dtype: int64\n",
      "     0   1  2  3\n",
      "0  1.5  10  0  0\n",
      "1  1.5  10  0  0\n",
      "2  1.5  10  0  0\n",
      "3  1.5  10  0  0\n",
      "4  1.5  10  0  0\n"
     ]
    }
   ],
   "source": [
    "X = dataframe3.drop(['CIMEMLOS', 0,1,2,3], axis=1)\n",
    "Y=dataframe3['CIMEMLOS']\n",
    "print(Y.head())\n",
    "\n",
    "Z=dataframe3[[0,1,2,3]]\n",
    "print(Z.head())"
   ]
  },
  {
   "cell_type": "code",
   "execution_count": 17,
   "id": "62ea2f84",
   "metadata": {},
   "outputs": [],
   "source": [
    "from sklearn.ensemble import RandomForestClassifier\n",
    "from sklearn.model_selection import train_test_split\n",
    "from costcla.datasets import load_creditscoring1\n",
    "from costcla.models import CostSensitiveBaggingClassifier\n",
    "from costcla.metrics import savings_score\n"
   ]
  },
  {
   "cell_type": "markdown",
   "id": "7c334426",
   "metadata": {},
   "source": [
    "## Model Fitting"
   ]
  },
  {
   "cell_type": "code",
   "execution_count": 18,
   "id": "6e79013c",
   "metadata": {},
   "outputs": [
    {
     "data": {
      "text/plain": [
       "CostSensitiveBaggingClassifier()"
      ]
     },
     "execution_count": 18,
     "metadata": {},
     "output_type": "execute_result"
    }
   ],
   "source": [
    "f = CostSensitiveBaggingClassifier(n_estimators=10)\n",
    "X=X.to_numpy()\n",
    "Y=Y.to_numpy()\n",
    "Z=Z.to_numpy()\n",
    "\n",
    "f.fit(X, Y, Z )"
   ]
  },
  {
   "cell_type": "markdown",
   "id": "739bc02a",
   "metadata": {},
   "source": [
    "## Model Evaluation on the Evaluation Set"
   ]
  },
  {
   "cell_type": "code",
   "execution_count": 19,
   "id": "c7be6924",
   "metadata": {},
   "outputs": [],
   "source": [
    "eval_X=eval_X.to_numpy()\n",
    "y_pred=f.predict(eval_X)"
   ]
  },
  {
   "cell_type": "code",
   "execution_count": 20,
   "id": "d498ef90",
   "metadata": {},
   "outputs": [
    {
     "name": "stdout",
     "output_type": "stream",
     "text": [
      "[[1713  407]\n",
      " [ 146  135]]\n",
      "              precision    recall  f1-score   support\n",
      "\n",
      "           0       0.92      0.81      0.86      2120\n",
      "           1       0.25      0.48      0.33       281\n",
      "\n",
      "    accuracy                           0.77      2401\n",
      "   macro avg       0.59      0.64      0.59      2401\n",
      "weighted avg       0.84      0.77      0.80      2401\n",
      "\n",
      "0.687519304371181\n"
     ]
    }
   ],
   "source": [
    "print(confusion_matrix(eval_Y, y_pred))\n",
    "print(classification_report(eval_Y, y_pred))\n",
    "y_pred_proba=f.predict_proba(eval_X)[::,1]\n",
    "\n",
    "    # Calculation of AUC\n",
    "auc=metrics.roc_auc_score(eval_Y, y_pred_proba)\n",
    "print(auc)"
   ]
  },
  {
   "cell_type": "markdown",
   "id": "7b69e70a",
   "metadata": {},
   "source": [
    "## combining the Training and Validation Set"
   ]
  },
  {
   "cell_type": "code",
   "execution_count": 21,
   "id": "dbfb47c1",
   "metadata": {},
   "outputs": [],
   "source": [
    "train_eval=[data, eval_set]\n",
    "complete_train=pd.concat(train_eval)\n",
    "\n"
   ]
  },
  {
   "cell_type": "code",
   "execution_count": 22,
   "id": "40b3bf88",
   "metadata": {},
   "outputs": [
    {
     "data": {
      "text/plain": [
       "Int64Index([   0,    1,    2,    3,    4,    5,    6,    7,    8,    9,\n",
       "            ...\n",
       "            2391, 2392, 2393, 2394, 2395, 2396, 2397, 2398, 2399, 2400],\n",
       "           dtype='int64', length=19210)"
      ]
     },
     "execution_count": 22,
     "metadata": {},
     "output_type": "execute_result"
    }
   ],
   "source": [
    "complete_train.index"
   ]
  },
  {
   "cell_type": "code",
   "execution_count": 23,
   "id": "6930cdc8",
   "metadata": {},
   "outputs": [],
   "source": [
    "# remove own index with default index\n",
    "complete_train.reset_index(inplace = True, drop = True)"
   ]
  },
  {
   "cell_type": "code",
   "execution_count": 24,
   "id": "af4d15e5",
   "metadata": {},
   "outputs": [
    {
     "data": {
      "text/html": [
       "<div>\n",
       "<style scoped>\n",
       "    .dataframe tbody tr th:only-of-type {\n",
       "        vertical-align: middle;\n",
       "    }\n",
       "\n",
       "    .dataframe tbody tr th {\n",
       "        vertical-align: top;\n",
       "    }\n",
       "\n",
       "    .dataframe thead th {\n",
       "        text-align: right;\n",
       "    }\n",
       "</style>\n",
       "<table border=\"1\" class=\"dataframe\">\n",
       "  <thead>\n",
       "    <tr style=\"text-align: right;\">\n",
       "      <th></th>\n",
       "      <th>CIMEMLOS</th>\n",
       "      <th>SEXVAR</th>\n",
       "      <th>X.AGEG5YR</th>\n",
       "      <th>X.BMI5</th>\n",
       "      <th>EXERANY2</th>\n",
       "      <th>SLEPTIM1</th>\n",
       "      <th>ADDEPEV3</th>\n",
       "      <th>DIABETE4</th>\n",
       "      <th>CVDSTRK3</th>\n",
       "      <th>smok_everyday</th>\n",
       "      <th>smok_somday</th>\n",
       "      <th>smok_no</th>\n",
       "      <th>SES</th>\n",
       "      <th>White</th>\n",
       "      <th>Black</th>\n",
       "      <th>Hispanic</th>\n",
       "      <th>Multi</th>\n",
       "      <th>Other</th>\n",
       "    </tr>\n",
       "  </thead>\n",
       "  <tbody>\n",
       "    <tr>\n",
       "      <th>0</th>\n",
       "      <td>0</td>\n",
       "      <td>0</td>\n",
       "      <td>10</td>\n",
       "      <td>28.29</td>\n",
       "      <td>1</td>\n",
       "      <td>7</td>\n",
       "      <td>0</td>\n",
       "      <td>1</td>\n",
       "      <td>0</td>\n",
       "      <td>0</td>\n",
       "      <td>0</td>\n",
       "      <td>1</td>\n",
       "      <td>11</td>\n",
       "      <td>1</td>\n",
       "      <td>0</td>\n",
       "      <td>0</td>\n",
       "      <td>0</td>\n",
       "      <td>0</td>\n",
       "    </tr>\n",
       "    <tr>\n",
       "      <th>1</th>\n",
       "      <td>0</td>\n",
       "      <td>1</td>\n",
       "      <td>11</td>\n",
       "      <td>37.97</td>\n",
       "      <td>0</td>\n",
       "      <td>6</td>\n",
       "      <td>0</td>\n",
       "      <td>1</td>\n",
       "      <td>0</td>\n",
       "      <td>0</td>\n",
       "      <td>0</td>\n",
       "      <td>1</td>\n",
       "      <td>5</td>\n",
       "      <td>1</td>\n",
       "      <td>0</td>\n",
       "      <td>0</td>\n",
       "      <td>0</td>\n",
       "      <td>0</td>\n",
       "    </tr>\n",
       "    <tr>\n",
       "      <th>2</th>\n",
       "      <td>0</td>\n",
       "      <td>0</td>\n",
       "      <td>9</td>\n",
       "      <td>19.84</td>\n",
       "      <td>1</td>\n",
       "      <td>8</td>\n",
       "      <td>0</td>\n",
       "      <td>0</td>\n",
       "      <td>0</td>\n",
       "      <td>1</td>\n",
       "      <td>0</td>\n",
       "      <td>0</td>\n",
       "      <td>14</td>\n",
       "      <td>1</td>\n",
       "      <td>0</td>\n",
       "      <td>0</td>\n",
       "      <td>0</td>\n",
       "      <td>0</td>\n",
       "    </tr>\n",
       "    <tr>\n",
       "      <th>3</th>\n",
       "      <td>0</td>\n",
       "      <td>0</td>\n",
       "      <td>7</td>\n",
       "      <td>21.11</td>\n",
       "      <td>0</td>\n",
       "      <td>4</td>\n",
       "      <td>1</td>\n",
       "      <td>1</td>\n",
       "      <td>0</td>\n",
       "      <td>0</td>\n",
       "      <td>0</td>\n",
       "      <td>1</td>\n",
       "      <td>6</td>\n",
       "      <td>1</td>\n",
       "      <td>0</td>\n",
       "      <td>0</td>\n",
       "      <td>0</td>\n",
       "      <td>0</td>\n",
       "    </tr>\n",
       "    <tr>\n",
       "      <th>4</th>\n",
       "      <td>0</td>\n",
       "      <td>1</td>\n",
       "      <td>11</td>\n",
       "      <td>20.53</td>\n",
       "      <td>0</td>\n",
       "      <td>4</td>\n",
       "      <td>0</td>\n",
       "      <td>0</td>\n",
       "      <td>0</td>\n",
       "      <td>1</td>\n",
       "      <td>0</td>\n",
       "      <td>0</td>\n",
       "      <td>12</td>\n",
       "      <td>1</td>\n",
       "      <td>0</td>\n",
       "      <td>0</td>\n",
       "      <td>0</td>\n",
       "      <td>0</td>\n",
       "    </tr>\n",
       "    <tr>\n",
       "      <th>...</th>\n",
       "      <td>...</td>\n",
       "      <td>...</td>\n",
       "      <td>...</td>\n",
       "      <td>...</td>\n",
       "      <td>...</td>\n",
       "      <td>...</td>\n",
       "      <td>...</td>\n",
       "      <td>...</td>\n",
       "      <td>...</td>\n",
       "      <td>...</td>\n",
       "      <td>...</td>\n",
       "      <td>...</td>\n",
       "      <td>...</td>\n",
       "      <td>...</td>\n",
       "      <td>...</td>\n",
       "      <td>...</td>\n",
       "      <td>...</td>\n",
       "      <td>...</td>\n",
       "    </tr>\n",
       "    <tr>\n",
       "      <th>19205</th>\n",
       "      <td>0</td>\n",
       "      <td>0</td>\n",
       "      <td>9</td>\n",
       "      <td>31.57</td>\n",
       "      <td>1</td>\n",
       "      <td>9</td>\n",
       "      <td>0</td>\n",
       "      <td>0</td>\n",
       "      <td>0</td>\n",
       "      <td>0</td>\n",
       "      <td>0</td>\n",
       "      <td>1</td>\n",
       "      <td>6</td>\n",
       "      <td>0</td>\n",
       "      <td>0</td>\n",
       "      <td>1</td>\n",
       "      <td>0</td>\n",
       "      <td>0</td>\n",
       "    </tr>\n",
       "    <tr>\n",
       "      <th>19206</th>\n",
       "      <td>0</td>\n",
       "      <td>1</td>\n",
       "      <td>13</td>\n",
       "      <td>26.93</td>\n",
       "      <td>0</td>\n",
       "      <td>8</td>\n",
       "      <td>0</td>\n",
       "      <td>0</td>\n",
       "      <td>0</td>\n",
       "      <td>0</td>\n",
       "      <td>0</td>\n",
       "      <td>1</td>\n",
       "      <td>5</td>\n",
       "      <td>0</td>\n",
       "      <td>0</td>\n",
       "      <td>1</td>\n",
       "      <td>0</td>\n",
       "      <td>0</td>\n",
       "    </tr>\n",
       "    <tr>\n",
       "      <th>19207</th>\n",
       "      <td>0</td>\n",
       "      <td>1</td>\n",
       "      <td>10</td>\n",
       "      <td>34.46</td>\n",
       "      <td>0</td>\n",
       "      <td>6</td>\n",
       "      <td>0</td>\n",
       "      <td>1</td>\n",
       "      <td>0</td>\n",
       "      <td>0</td>\n",
       "      <td>0</td>\n",
       "      <td>1</td>\n",
       "      <td>3</td>\n",
       "      <td>0</td>\n",
       "      <td>0</td>\n",
       "      <td>1</td>\n",
       "      <td>0</td>\n",
       "      <td>0</td>\n",
       "    </tr>\n",
       "    <tr>\n",
       "      <th>19208</th>\n",
       "      <td>0</td>\n",
       "      <td>1</td>\n",
       "      <td>8</td>\n",
       "      <td>27.12</td>\n",
       "      <td>1</td>\n",
       "      <td>8</td>\n",
       "      <td>0</td>\n",
       "      <td>0</td>\n",
       "      <td>0</td>\n",
       "      <td>0</td>\n",
       "      <td>0</td>\n",
       "      <td>1</td>\n",
       "      <td>8</td>\n",
       "      <td>0</td>\n",
       "      <td>0</td>\n",
       "      <td>1</td>\n",
       "      <td>0</td>\n",
       "      <td>0</td>\n",
       "    </tr>\n",
       "    <tr>\n",
       "      <th>19209</th>\n",
       "      <td>0</td>\n",
       "      <td>0</td>\n",
       "      <td>11</td>\n",
       "      <td>23.34</td>\n",
       "      <td>0</td>\n",
       "      <td>6</td>\n",
       "      <td>0</td>\n",
       "      <td>0</td>\n",
       "      <td>0</td>\n",
       "      <td>1</td>\n",
       "      <td>0</td>\n",
       "      <td>0</td>\n",
       "      <td>9</td>\n",
       "      <td>0</td>\n",
       "      <td>0</td>\n",
       "      <td>1</td>\n",
       "      <td>0</td>\n",
       "      <td>0</td>\n",
       "    </tr>\n",
       "  </tbody>\n",
       "</table>\n",
       "<p>19210 rows × 18 columns</p>\n",
       "</div>"
      ],
      "text/plain": [
       "       CIMEMLOS  SEXVAR  X.AGEG5YR  X.BMI5  EXERANY2  SLEPTIM1  ADDEPEV3  \\\n",
       "0             0       0         10   28.29         1         7         0   \n",
       "1             0       1         11   37.97         0         6         0   \n",
       "2             0       0          9   19.84         1         8         0   \n",
       "3             0       0          7   21.11         0         4         1   \n",
       "4             0       1         11   20.53         0         4         0   \n",
       "...         ...     ...        ...     ...       ...       ...       ...   \n",
       "19205         0       0          9   31.57         1         9         0   \n",
       "19206         0       1         13   26.93         0         8         0   \n",
       "19207         0       1         10   34.46         0         6         0   \n",
       "19208         0       1          8   27.12         1         8         0   \n",
       "19209         0       0         11   23.34         0         6         0   \n",
       "\n",
       "       DIABETE4  CVDSTRK3  smok_everyday  smok_somday  smok_no  SES  White  \\\n",
       "0             1         0              0            0        1   11      1   \n",
       "1             1         0              0            0        1    5      1   \n",
       "2             0         0              1            0        0   14      1   \n",
       "3             1         0              0            0        1    6      1   \n",
       "4             0         0              1            0        0   12      1   \n",
       "...         ...       ...            ...          ...      ...  ...    ...   \n",
       "19205         0         0              0            0        1    6      0   \n",
       "19206         0         0              0            0        1    5      0   \n",
       "19207         1         0              0            0        1    3      0   \n",
       "19208         0         0              0            0        1    8      0   \n",
       "19209         0         0              1            0        0    9      0   \n",
       "\n",
       "       Black  Hispanic  Multi  Other  \n",
       "0          0         0      0      0  \n",
       "1          0         0      0      0  \n",
       "2          0         0      0      0  \n",
       "3          0         0      0      0  \n",
       "4          0         0      0      0  \n",
       "...      ...       ...    ...    ...  \n",
       "19205      0         1      0      0  \n",
       "19206      0         1      0      0  \n",
       "19207      0         1      0      0  \n",
       "19208      0         1      0      0  \n",
       "19209      0         1      0      0  \n",
       "\n",
       "[19210 rows x 18 columns]"
      ]
     },
     "execution_count": 24,
     "metadata": {},
     "output_type": "execute_result"
    }
   ],
   "source": [
    "complete_train"
   ]
  },
  {
   "cell_type": "markdown",
   "id": "ee252af0",
   "metadata": {},
   "source": [
    "## Re creation of new cost matrix"
   ]
  },
  {
   "cell_type": "code",
   "execution_count": 25,
   "id": "df0ec61a",
   "metadata": {},
   "outputs": [
    {
     "name": "stdout",
     "output_type": "stream",
     "text": [
      "         0   1  2  3\n",
      "0      1.5  10  0  0\n",
      "1      1.5  10  0  0\n",
      "2      1.5  10  0  0\n",
      "3      1.5  10  0  0\n",
      "4      1.5  10  0  0\n",
      "...    ...  .. .. ..\n",
      "19205  1.5  10  0  0\n",
      "19206  1.5  10  0  0\n",
      "19207  1.5  10  0  0\n",
      "19208  1.5  10  0  0\n",
      "19209  1.5  10  0  0\n",
      "\n",
      "[19210 rows x 4 columns]\n"
     ]
    }
   ],
   "source": [
    "rows, cols = (len(complete_train), 4)\n",
    "arr = [[0]*cols]*rows\n",
    "for row in range(0,rows):\n",
    "    for col in range(cols):\n",
    "        if col==0:\n",
    "            arr[row][col]=1.5\n",
    "        if col==1:\n",
    "            arr[row][col]=10\n",
    "#print(arr)\n",
    "cost_matrix = pd.DataFrame(arr)  \n",
    "print(cost_matrix)\n",
    "\n",
    "\n"
   ]
  },
  {
   "cell_type": "markdown",
   "id": "cbc366e5",
   "metadata": {},
   "source": [
    "## Concatinating the Complete Training Set and Cost Matrix"
   ]
  },
  {
   "cell_type": "code",
   "execution_count": 26,
   "id": "67ab7217",
   "metadata": {},
   "outputs": [
    {
     "name": "stdout",
     "output_type": "stream",
     "text": [
      "19210\n"
     ]
    }
   ],
   "source": [
    "d4=pd.concat([complete_train, cost_matrix], axis=1)\n",
    "d4.head()\n",
    "print(len(d4))\n",
    "\n"
   ]
  },
  {
   "cell_type": "markdown",
   "id": "600477bc",
   "metadata": {},
   "source": [
    "## Preparing X, Y, Z for final training in the classifer"
   ]
  },
  {
   "cell_type": "code",
   "execution_count": 27,
   "id": "9d00fbbe",
   "metadata": {},
   "outputs": [
    {
     "name": "stdout",
     "output_type": "stream",
     "text": [
      "0    0\n",
      "1    0\n",
      "2    0\n",
      "3    0\n",
      "4    0\n",
      "Name: CIMEMLOS, dtype: int64\n",
      "     0   1  2  3\n",
      "0  1.5  10  0  0\n",
      "1  1.5  10  0  0\n",
      "2  1.5  10  0  0\n",
      "3  1.5  10  0  0\n",
      "4  1.5  10  0  0\n"
     ]
    }
   ],
   "source": [
    "X = d4.drop(['CIMEMLOS', 0,1,2,3], axis=1)\n",
    "Y=d4['CIMEMLOS']\n",
    "print(Y.head())\n",
    "\n",
    "Z=d4[[0,1,2,3]]\n",
    "print(Z.head())"
   ]
  },
  {
   "cell_type": "code",
   "execution_count": 28,
   "id": "6a69814a",
   "metadata": {},
   "outputs": [
    {
     "data": {
      "text/plain": [
       "19210"
      ]
     },
     "execution_count": 28,
     "metadata": {},
     "output_type": "execute_result"
    }
   ],
   "source": [
    "len(X)"
   ]
  },
  {
   "cell_type": "markdown",
   "id": "a8bae2b8",
   "metadata": {},
   "source": [
    "## Final Model Fitting"
   ]
  },
  {
   "cell_type": "code",
   "execution_count": 29,
   "id": "93cbe905",
   "metadata": {},
   "outputs": [
    {
     "data": {
      "text/plain": [
       "CostSensitiveBaggingClassifier()"
      ]
     },
     "execution_count": 29,
     "metadata": {},
     "output_type": "execute_result"
    }
   ],
   "source": [
    "f = CostSensitiveBaggingClassifier(n_estimators=10)\n",
    "X=X.to_numpy()\n",
    "Y=Y.to_numpy()\n",
    "Z=Z.to_numpy()\n",
    "\n",
    "f.fit(X, Y, Z )"
   ]
  },
  {
   "cell_type": "markdown",
   "id": "139e3d34",
   "metadata": {},
   "source": [
    "## Final Testing"
   ]
  },
  {
   "cell_type": "code",
   "execution_count": 30,
   "id": "6d08f68d",
   "metadata": {},
   "outputs": [
    {
     "name": "stdout",
     "output_type": "stream",
     "text": [
      "(4802, 18)\n"
     ]
    }
   ],
   "source": [
    "test_data=pd.read_csv('/Users/ibrain/Downloads/Cognitive Neuroscience Work/Cognition and Lifestyle R Coding/Cognition_Lifestyle/Imbalanced Data/testing_set.csv')\n",
    "test_data=test_data.iloc[:,1:]\n",
    "test_data.head()\n",
    "print(test_data.shape)\n",
    "\n",
    "test_X = test_data.drop(columns='CIMEMLOS')\n",
    "test_Y = test_data['CIMEMLOS']"
   ]
  },
  {
   "cell_type": "code",
   "execution_count": 31,
   "id": "5441849b",
   "metadata": {},
   "outputs": [],
   "source": [
    "test_X=test_X.to_numpy()\n",
    "y_pred=f.predict(test_X)"
   ]
  },
  {
   "cell_type": "code",
   "execution_count": 32,
   "id": "757bcb09",
   "metadata": {},
   "outputs": [
    {
     "name": "stdout",
     "output_type": "stream",
     "text": [
      "[[3449  848]\n",
      " [ 267  238]]\n",
      "              precision    recall  f1-score   support\n",
      "\n",
      "           0       0.93      0.80      0.86      4297\n",
      "           1       0.22      0.47      0.30       505\n",
      "\n",
      "    accuracy                           0.77      4802\n",
      "   macro avg       0.57      0.64      0.58      4802\n",
      "weighted avg       0.85      0.77      0.80      4802\n",
      "\n",
      "0.6810436477671504\n"
     ]
    }
   ],
   "source": [
    "print(confusion_matrix(test_Y, y_pred))\n",
    "print(classification_report(test_Y, y_pred))\n",
    "y_pred_proba=f.predict_proba(test_X)[:,1]\n",
    "\n",
    "    # Calculation of AUC\n",
    "auc=metrics.roc_auc_score(test_Y, y_pred_proba)\n",
    "print(auc)"
   ]
  },
  {
   "cell_type": "code",
   "execution_count": null,
   "id": "b063baa6",
   "metadata": {},
   "outputs": [],
   "source": []
  }
 ],
 "metadata": {
  "kernelspec": {
   "display_name": "Python 3 (ipykernel)",
   "language": "python",
   "name": "python3"
  },
  "language_info": {
   "codemirror_mode": {
    "name": "ipython",
    "version": 3
   },
   "file_extension": ".py",
   "mimetype": "text/x-python",
   "name": "python",
   "nbconvert_exporter": "python",
   "pygments_lexer": "ipython3",
   "version": "3.9.13"
  }
 },
 "nbformat": 4,
 "nbformat_minor": 5
}
